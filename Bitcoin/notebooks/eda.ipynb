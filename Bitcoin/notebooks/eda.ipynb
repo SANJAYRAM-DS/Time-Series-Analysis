{
 "cells": [
  {
   "cell_type": "markdown",
   "id": "416c9666",
   "metadata": {},
   "source": [
    "Saving data from yfinance till date"
   ]
  },
  {
   "cell_type": "code",
   "execution_count": null,
   "id": "96fb9520",
   "metadata": {},
   "outputs": [],
   "source": [
    "# import pandas as pd\n",
    "# import yfinance as yf"
   ]
  },
  {
   "cell_type": "code",
   "execution_count": 111,
   "id": "32a7968a",
   "metadata": {},
   "outputs": [],
   "source": [
    "# df = pd.read_csv(\"../data/bitcoin_price.csv\")\n",
    "# df.head()\n"
   ]
  },
  {
   "cell_type": "code",
   "execution_count": 112,
   "id": "f0a6fd1f",
   "metadata": {},
   "outputs": [],
   "source": [
    "# import yfinance as yf\n",
    "# import pandas as pd\n",
    "# import datetime as dt\n",
    "\n",
    "# today = dt.datetime.today()\n",
    "# two_weeks = dt.timedelta(weeks=2)\n",
    "# cutoff = today - two_weeks\n",
    "# start_date = dt.datetime(2014, 9, 17)\n",
    "\n",
    "# btc_data = yf.download(\"BTC-USD\", start=start_date, end=today)\n",
    "\n",
    "# print(\"Raw latest index date:\", btc_data.index.max())\n",
    "\n",
    "# btc_data = btc_data.reset_index()\n",
    "\n",
    "# print(\"After reset_index() — latest 'Date':\", btc_data['Date'].max())\n",
    "\n",
    "# btc_data['Date'] = pd.to_datetime(btc_data['Date'])\n",
    "\n",
    "# btc_data['Adj Close'] = btc_data['Close']\n",
    "\n",
    "# btc_data = btc_data[['Date', 'Open', 'High', 'Low', 'Close', 'Adj Close', 'Volume']]\n",
    "\n",
    "# train_data = btc_data[btc_data['Date'] < cutoff]\n",
    "# test_data = btc_data[btc_data['Date'] >= cutoff]\n",
    "\n",
    "# print(\"Train:\", train_data['Date'].min().date(), \"to\", train_data['Date'].max().date())\n",
    "# print(\"Test:\", test_data['Date'].min().date(), \"to\", test_data['Date'].max().date())\n"
   ]
  },
  {
   "cell_type": "code",
   "execution_count": null,
   "id": "4f735645",
   "metadata": {},
   "outputs": [],
   "source": [
    "# train_data.to_csv(\"../data/raw/train.csv\", index = False)\n",
    "# test_data.to_csv(\"../data/raw/test.csv\", index = False)"
   ]
  },
  {
   "cell_type": "code",
   "execution_count": null,
   "id": "e174d0de",
   "metadata": {},
   "outputs": [],
   "source": [
    "# train = pd.read_csv(\"../data/raw/train.csv\")\n",
    "# test = pd.read_csv(\"../data/raw/test.csv\")"
   ]
  },
  {
   "cell_type": "code",
   "execution_count": null,
   "id": "1171ae65",
   "metadata": {},
   "outputs": [],
   "source": [
    "# train.reset_index()"
   ]
  },
  {
   "cell_type": "code",
   "execution_count": 113,
   "id": "926a703c",
   "metadata": {},
   "outputs": [],
   "source": [
    "# test.reset_index()"
   ]
  },
  {
   "cell_type": "code",
   "execution_count": 114,
   "id": "35acf8a6",
   "metadata": {},
   "outputs": [],
   "source": [
    "# train = train.drop(index=0).reset_index(drop=True)\n",
    "# test = test.drop(index=0).reset_index(drop=True)\n",
    "# train.tail()"
   ]
  },
  {
   "cell_type": "code",
   "execution_count": 107,
   "id": "dc85cfd3",
   "metadata": {},
   "outputs": [],
   "source": [
    "# test.to_csv(\"../data/processed/test.csv\", index=False)\n",
    "# train.to_csv(\"../data/processed/train.csv\", index = False)"
   ]
  },
  {
   "cell_type": "code",
   "execution_count": 210,
   "id": "391b0949",
   "metadata": {},
   "outputs": [],
   "source": [
    "import pandas as pd\n",
    "import datetime as dt\n",
    "import matplotlib.pyplot as plt\n",
    "from statsmodels.graphics.tsaplots import month_plot, quarter_plot\n",
    "from statsmodels.graphics.tsaplots import plot_acf, plot_pacf\n",
    "from statsmodels.tsa.seasonal import seasonal_decompose"
   ]
  },
  {
   "cell_type": "code",
   "execution_count": null,
   "id": "f4b3bf96",
   "metadata": {},
   "outputs": [],
   "source": [
    "df = pd.read_csv(\"../data/processed/train.csv\")"
   ]
  },
  {
   "cell_type": "code",
   "execution_count": 121,
   "id": "31e98fdb",
   "metadata": {},
   "outputs": [],
   "source": [
    "df['Date'] = pd.to_datetime(df['Date'], format = \"%Y-%m-%d\")"
   ]
  },
  {
   "cell_type": "code",
   "execution_count": 125,
   "id": "3b1507b1",
   "metadata": {},
   "outputs": [],
   "source": [
    "df.set_index('Date', inplace=True)"
   ]
  },
  {
   "cell_type": "code",
   "execution_count": null,
   "id": "9b9f8522",
   "metadata": {},
   "outputs": [],
   "source": [
    "df.head()"
   ]
  },
  {
   "cell_type": "code",
   "execution_count": null,
   "id": "97dc5e0a",
   "metadata": {},
   "outputs": [],
   "source": [
    "df.loc['2021']"
   ]
  },
  {
   "cell_type": "code",
   "execution_count": null,
   "id": "341b4807",
   "metadata": {},
   "outputs": [],
   "source": [
    "#Resampling to monthly freq and mean price\n",
    "df.resample('M').mean()"
   ]
  },
  {
   "cell_type": "code",
   "execution_count": 146,
   "id": "089de502",
   "metadata": {},
   "outputs": [],
   "source": [
    "#7 - Day rolling avg of 'Close'\n",
    "df['df_7dayrolling'] = df['Close'].rolling(window=7).mean()"
   ]
  },
  {
   "cell_type": "code",
   "execution_count": null,
   "id": "ab87ca3b",
   "metadata": {},
   "outputs": [],
   "source": [
    "df[['Close', 'df_7dayrolling']].loc['2023'].plot()\n",
    "plt.show()"
   ]
  },
  {
   "cell_type": "code",
   "execution_count": 150,
   "id": "83a303cb",
   "metadata": {},
   "outputs": [
    {
     "data": {
      "text/plain": [
       "Timestamp('2025-06-30 00:00:00')"
      ]
     },
     "execution_count": 150,
     "metadata": {},
     "output_type": "execute_result"
    }
   ],
   "source": [
    "#Find out the highest avg month\n",
    "df.resample('M').mean()['Close'].idxmax()"
   ]
  },
  {
   "cell_type": "code",
   "execution_count": 156,
   "id": "ea0c4301",
   "metadata": {},
   "outputs": [],
   "source": [
    "df.drop('df_7day',axis = 1, inplace = True)"
   ]
  },
  {
   "cell_type": "code",
   "execution_count": 157,
   "id": "060e8a50",
   "metadata": {},
   "outputs": [],
   "source": [
    "#Calculate Daily returns\n",
    "df['daily_returns'] = df['Close'].pct_change()*100"
   ]
  },
  {
   "cell_type": "code",
   "execution_count": null,
   "id": "b600513c",
   "metadata": {},
   "outputs": [],
   "source": [
    "#Days with more than 10% change in Closing Price\n",
    "df[abs(df['daily_returns']) > 10].head() "
   ]
  },
  {
   "cell_type": "code",
   "execution_count": null,
   "id": "bd951d21",
   "metadata": {},
   "outputs": [],
   "source": [
    "#Some Data vizualization\n",
    "#Daily closing price\n",
    "df['Close'].plot(title = 'Daily closing price', figsize=(10,4))\n",
    "plt.show()"
   ]
  },
  {
   "cell_type": "code",
   "execution_count": null,
   "id": "8fa7d700",
   "metadata": {},
   "outputs": [],
   "source": [
    "#Plot the yearly volume\n",
    "df.resample('Y').sum()['Volume'].plot(figsize=(10,4), title='Yearly Volume')\n",
    "plt.show()"
   ]
  },
  {
   "cell_type": "code",
   "execution_count": null,
   "id": "84586fb4",
   "metadata": {},
   "outputs": [],
   "source": [
    "#Plot Closing price and 30-day rolling Volume\n",
    "df['30-days-rolling-volume'] = df['Volume'].rolling(window=30).mean()\n",
    "df['30-days-rolling-volume'].plot(figsize=(10,4), title='30 Days Rolling Volume', legend=True)\n",
    "ax = df['Close'].plot(secondary_y = True, legend=True)\n",
    "ax.set_ylabel('Volume')\n",
    "plt.show()"
   ]
  },
  {
   "cell_type": "code",
   "execution_count": null,
   "id": "3930b0e8",
   "metadata": {},
   "outputs": [],
   "source": [
    "#Correlation between Close and 30-days-rolling-volume\n",
    "df[['Close', '30-days-rolling-volume']].corr()"
   ]
  },
  {
   "cell_type": "markdown",
   "id": "ab949ed6",
   "metadata": {},
   "source": [
    "Data Manipulation"
   ]
  },
  {
   "cell_type": "code",
   "execution_count": null,
   "id": "e7b8b43d",
   "metadata": {},
   "outputs": [],
   "source": [
    "#Checking missing values\n",
    "df.isnull().sum()\n",
    "\n",
    "#Filling them\n",
    "df['30-days-rolling-volume'] =df['30-days-rolling-volume'].bfill()\n",
    "df['df_7dayrolling'] =df['df_7dayrolling'].bfill() \n",
    "df['daily_returns'] =df['daily_returns'].bfill()\n",
    "\n"
   ]
  },
  {
   "cell_type": "code",
   "execution_count": null,
   "id": "8a9f0c3e",
   "metadata": {},
   "outputs": [],
   "source": [
    "df.isnull().sum()\n"
   ]
  },
  {
   "cell_type": "code",
   "execution_count": 190,
   "id": "9a371645",
   "metadata": {},
   "outputs": [],
   "source": [
    "#Extracting time variable\n",
    "df['year'] = df.index.year\n",
    "df['month'] = df.index.month\n",
    "df['day'] = df.index.day\n",
    "df['weekday'] = df.index.day_name()\n",
    "df['weekday numeric'] = df.index.weekday\n",
    "df['is_weekend'] = df.index.weekday > 4"
   ]
  },
  {
   "cell_type": "code",
   "execution_count": 192,
   "id": "1561651c",
   "metadata": {},
   "outputs": [],
   "source": [
    "#Lagged values\n",
    "df['closed_lag1'] = df['Close'].shift(1)\n",
    "df['closed_lag2'] = df['Close'].shift(2)"
   ]
  },
  {
   "cell_type": "markdown",
   "id": "a778576e",
   "metadata": {},
   "source": [
    "Seasonality\n"
   ]
  },
  {
   "cell_type": "code",
   "execution_count": null,
   "id": "1096ed4b",
   "metadata": {},
   "outputs": [],
   "source": [
    "#month plot - seasonality\n",
    "monthly_avg = df['Close'].resample('M').mean()\n",
    "month_plot(monthly_avg, ylabel='Closing')"
   ]
  },
  {
   "cell_type": "code",
   "execution_count": 199,
   "id": "b6880c60",
   "metadata": {},
   "outputs": [],
   "source": [
    "# #quater plot - seasonality\n",
    "# quarter_plot = df['Close'].resample('Q').mean()\n",
    "# quarter_plot(monthly_avg, ylabel='Closing')"
   ]
  },
  {
   "cell_type": "code",
   "execution_count": null,
   "id": "2799168c",
   "metadata": {},
   "outputs": [],
   "source": [
    "#Seasonal decomposition - yearly\n",
    "decomposition = seasonal_decompose(df['Close'],\n",
    "                                    model= 'mul',\n",
    "                                    period = 365)\n",
    "\n",
    "fig = decomposition.plot()\n",
    "fig.set_size_inches(10,8)\n",
    "plt.show()"
   ]
  },
  {
   "cell_type": "code",
   "execution_count": null,
   "id": "b00356c7",
   "metadata": {},
   "outputs": [],
   "source": [
    "#Auto-Correlation plots (ACF)\n",
    "fig, ax = plt.subplots(figsize = (10,4))\n",
    "plot_acf(df['Close'], lags = 100, ax=ax)\n",
    "plt.show()"
   ]
  },
  {
   "cell_type": "code",
   "execution_count": null,
   "id": "22ac4a0d",
   "metadata": {},
   "outputs": [],
   "source": [
    "#Partial-Auto correlation\n",
    "fig, ax = plt.subplots(figsize = (10,4))\n",
    "plot_pacf(df['Close'], lags = 100, ax=ax)\n",
    "plt.show()"
   ]
  },
  {
   "cell_type": "code",
   "execution_count": null,
   "id": "cdc108e3",
   "metadata": {},
   "outputs": [],
   "source": []
  }
 ],
 "metadata": {
  "kernelspec": {
   "display_name": "Python 3",
   "language": "python",
   "name": "python3"
  },
  "language_info": {
   "codemirror_mode": {
    "name": "ipython",
    "version": 3
   },
   "file_extension": ".py",
   "mimetype": "text/x-python",
   "name": "python",
   "nbconvert_exporter": "python",
   "pygments_lexer": "ipython3",
   "version": "3.12.10"
  }
 },
 "nbformat": 4,
 "nbformat_minor": 5
}
