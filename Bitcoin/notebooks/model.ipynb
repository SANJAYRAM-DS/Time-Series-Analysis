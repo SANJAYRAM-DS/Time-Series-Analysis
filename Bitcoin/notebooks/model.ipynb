{
 "cells": [
  {
   "cell_type": "code",
   "execution_count": 21,
   "id": "3437f6a7",
   "metadata": {},
   "outputs": [],
   "source": [
    "import pandas as pd\n",
    "import matplotlib.pyplot as plt\n",
    "from statsmodels.graphics.tsaplots import month_plot, quarter_plot, plot_pacf, plot_acf\n",
    "from statsmodels.tsa.seasonal import seasonal_decompose\n",
    "from statsmodels.tsa.holtwinters import SimpleExpSmoothing, ExponentialSmoothing\n",
    "from sklearn.metrics import mean_absolute_error,mean_squared_error,mean_absolute_percentage_error"
   ]
  },
  {
   "cell_type": "code",
   "execution_count": 167,
   "id": "42edae9b",
   "metadata": {},
   "outputs": [],
   "source": [
    "df = pd.read_csv(\"../data/processed/train.csv\", index_col=\"Date\")\n",
    "test = pd.read_csv(\"../data/processed/test.csv\", index_col=\"Date\")\n"
   ]
  },
  {
   "cell_type": "code",
   "execution_count": 168,
   "id": "976ba158",
   "metadata": {},
   "outputs": [
    {
     "data": {
      "text/html": [
       "<div>\n",
       "<style scoped>\n",
       "    .dataframe tbody tr th:only-of-type {\n",
       "        vertical-align: middle;\n",
       "    }\n",
       "\n",
       "    .dataframe tbody tr th {\n",
       "        vertical-align: top;\n",
       "    }\n",
       "\n",
       "    .dataframe thead th {\n",
       "        text-align: right;\n",
       "    }\n",
       "</style>\n",
       "<table border=\"1\" class=\"dataframe\">\n",
       "  <thead>\n",
       "    <tr style=\"text-align: right;\">\n",
       "      <th></th>\n",
       "      <th>Open</th>\n",
       "      <th>High</th>\n",
       "      <th>Low</th>\n",
       "      <th>Close</th>\n",
       "      <th>Adj Close</th>\n",
       "      <th>Volume</th>\n",
       "    </tr>\n",
       "    <tr>\n",
       "      <th>Date</th>\n",
       "      <th></th>\n",
       "      <th></th>\n",
       "      <th></th>\n",
       "      <th></th>\n",
       "      <th></th>\n",
       "      <th></th>\n",
       "    </tr>\n",
       "  </thead>\n",
       "  <tbody>\n",
       "    <tr>\n",
       "      <th>2014-09-17</th>\n",
       "      <td>465.864014</td>\n",
       "      <td>468.174011</td>\n",
       "      <td>452.421997</td>\n",
       "      <td>457.334015</td>\n",
       "      <td>457.334015</td>\n",
       "      <td>21056800</td>\n",
       "    </tr>\n",
       "    <tr>\n",
       "      <th>2014-09-18</th>\n",
       "      <td>456.859985</td>\n",
       "      <td>456.859985</td>\n",
       "      <td>413.104004</td>\n",
       "      <td>424.440002</td>\n",
       "      <td>424.440002</td>\n",
       "      <td>34483200</td>\n",
       "    </tr>\n",
       "    <tr>\n",
       "      <th>2014-09-19</th>\n",
       "      <td>424.102997</td>\n",
       "      <td>427.834991</td>\n",
       "      <td>384.532013</td>\n",
       "      <td>394.795990</td>\n",
       "      <td>394.795990</td>\n",
       "      <td>37919700</td>\n",
       "    </tr>\n",
       "    <tr>\n",
       "      <th>2014-09-20</th>\n",
       "      <td>394.673004</td>\n",
       "      <td>423.295990</td>\n",
       "      <td>389.882996</td>\n",
       "      <td>408.903992</td>\n",
       "      <td>408.903992</td>\n",
       "      <td>36863600</td>\n",
       "    </tr>\n",
       "    <tr>\n",
       "      <th>2014-09-21</th>\n",
       "      <td>408.084991</td>\n",
       "      <td>412.425995</td>\n",
       "      <td>393.181000</td>\n",
       "      <td>398.821014</td>\n",
       "      <td>398.821014</td>\n",
       "      <td>26580100</td>\n",
       "    </tr>\n",
       "  </tbody>\n",
       "</table>\n",
       "</div>"
      ],
      "text/plain": [
       "                  Open        High         Low       Close   Adj Close  \\\n",
       "Date                                                                     \n",
       "2014-09-17  465.864014  468.174011  452.421997  457.334015  457.334015   \n",
       "2014-09-18  456.859985  456.859985  413.104004  424.440002  424.440002   \n",
       "2014-09-19  424.102997  427.834991  384.532013  394.795990  394.795990   \n",
       "2014-09-20  394.673004  423.295990  389.882996  408.903992  408.903992   \n",
       "2014-09-21  408.084991  412.425995  393.181000  398.821014  398.821014   \n",
       "\n",
       "              Volume  \n",
       "Date                  \n",
       "2014-09-17  21056800  \n",
       "2014-09-18  34483200  \n",
       "2014-09-19  37919700  \n",
       "2014-09-20  36863600  \n",
       "2014-09-21  26580100  "
      ]
     },
     "execution_count": 168,
     "metadata": {},
     "output_type": "execute_result"
    }
   ],
   "source": [
    "df.head()"
   ]
  },
  {
   "cell_type": "code",
   "execution_count": 171,
   "id": "d8f81d67",
   "metadata": {},
   "outputs": [
    {
     "data": {
      "text/plain": [
       "(3925, 6)"
      ]
     },
     "execution_count": 171,
     "metadata": {},
     "output_type": "execute_result"
    }
   ],
   "source": [
    "df.shape"
   ]
  },
  {
   "cell_type": "code",
   "execution_count": 172,
   "id": "892c13dc",
   "metadata": {},
   "outputs": [
    {
     "data": {
      "text/plain": [
       "Index(['2014-09-17', '2014-09-18', '2014-09-19', '2014-09-20', '2014-09-21',\n",
       "       '2014-09-22', '2014-09-23', '2014-09-24', '2014-09-25', '2014-09-26',\n",
       "       ...\n",
       "       '2025-06-06', '2025-06-07', '2025-06-08', '2025-06-09', '2025-06-10',\n",
       "       '2025-06-11', '2025-06-12', '2025-06-13', '2025-06-14', '2025-06-15'],\n",
       "      dtype='object', name='Date', length=3925)"
      ]
     },
     "execution_count": 172,
     "metadata": {},
     "output_type": "execute_result"
    }
   ],
   "source": [
    "df.index"
   ]
  },
  {
   "cell_type": "code",
   "execution_count": 174,
   "id": "24409dde",
   "metadata": {},
   "outputs": [],
   "source": [
    "train, test = df.iloc[:-30,0], df.iloc[-30:,0]"
   ]
  },
  {
   "cell_type": "code",
   "execution_count": 175,
   "id": "7dcb6c93",
   "metadata": {},
   "outputs": [
    {
     "data": {
      "text/plain": [
       "(3895,)"
      ]
     },
     "execution_count": 175,
     "metadata": {},
     "output_type": "execute_result"
    }
   ],
   "source": [
    "train.shape"
   ]
  },
  {
   "cell_type": "code",
   "execution_count": 157,
   "id": "3c5e18a2",
   "metadata": {},
   "outputs": [
    {
     "name": "stdout",
     "output_type": "stream",
     "text": [
      "(3895,)\n",
      "Date\n",
      "2014-09-17    465.864014\n",
      "2014-09-18    456.859985\n",
      "2014-09-19    424.102997\n",
      "2014-09-20    394.673004\n",
      "2014-09-21    408.084991\n",
      "Name: Open, dtype: float64\n"
     ]
    }
   ],
   "source": [
    "print(train.shape)\n",
    "print(train.head())"
   ]
  },
  {
   "cell_type": "code",
   "execution_count": 158,
   "id": "e131fe85",
   "metadata": {},
   "outputs": [
    {
     "name": "stderr",
     "output_type": "stream",
     "text": [
      "c:\\Users\\srmpc\\AppData\\Local\\Programs\\Python\\Python312\\Lib\\site-packages\\statsmodels\\tsa\\base\\tsa_model.py:473: ValueWarning: No frequency information was provided, so inferred frequency D will be used.\n",
      "  self._init_dates(dates, freq)\n",
      "c:\\Users\\srmpc\\AppData\\Local\\Programs\\Python\\Python312\\Lib\\site-packages\\statsmodels\\tsa\\holtwinters\\model.py:918: ConvergenceWarning: Optimization failed to converge. Check mle_retvals.\n",
      "  warnings.warn(\n"
     ]
    }
   ],
   "source": [
    "model = ExponentialSmoothing(train,\n",
    "                                trend = 'mul',\n",
    "                                seasonal = \"mul\",\n",
    "                                seasonal_periods=7).fit()"
   ]
  },
  {
   "cell_type": "code",
   "execution_count": 159,
   "id": "f8c1d6c3",
   "metadata": {},
   "outputs": [
    {
     "data": {
      "text/plain": [
       "2025-05-17    104096.091831\n",
       "2025-05-18    104253.236679\n",
       "2025-05-19    104513.547651\n",
       "2025-05-20    105495.334379\n",
       "2025-05-21    105984.044253\n",
       "2025-05-22    106718.589204\n",
       "2025-05-23    106718.567176\n",
       "2025-05-24    107096.939169\n",
       "2025-05-25    107258.614136\n",
       "2025-05-26    107526.429265\n",
       "2025-05-27    108536.518613\n",
       "2025-05-28    109039.316853\n",
       "2025-05-29    109795.037019\n",
       "2025-05-30    109795.014356\n",
       "2025-05-31    110184.293930\n",
       "2025-06-01    110350.629609\n",
       "2025-06-02    110626.165224\n",
       "2025-06-03    111665.373090\n",
       "2025-06-04    112182.665829\n",
       "2025-06-05    112960.171644\n",
       "2025-06-06    112960.148327\n",
       "2025-06-07    113360.649923\n",
       "2025-06-08    113531.780671\n",
       "2025-06-09    113815.259335\n",
       "2025-06-10    114884.425138\n",
       "2025-06-11    115416.630219\n",
       "2025-06-12    116216.549711\n",
       "2025-06-13    116216.525723\n",
       "2025-06-14    116628.572844\n",
       "2025-06-15    116804.636893\n",
       "Freq: D, dtype: float64"
      ]
     },
     "execution_count": 159,
     "metadata": {},
     "output_type": "execute_result"
    }
   ],
   "source": [
    "predictions = model.forecast(len(test))\n",
    "predictions"
   ]
  },
  {
   "cell_type": "code",
   "execution_count": 160,
   "id": "a69ead30",
   "metadata": {},
   "outputs": [],
   "source": [
    "test = test.asfreq('D')"
   ]
  },
  {
   "cell_type": "code",
   "execution_count": 161,
   "id": "f908bb78",
   "metadata": {},
   "outputs": [
    {
     "data": {
      "text/plain": [
       "Date\n",
       "2025-05-17   NaN\n",
       "2025-05-18   NaN\n",
       "2025-05-19   NaN\n",
       "2025-05-20   NaN\n",
       "2025-05-21   NaN\n",
       "Freq: D, Name: Open, dtype: float64"
      ]
     },
     "execution_count": 161,
     "metadata": {},
     "output_type": "execute_result"
    }
   ],
   "source": [
    "test.head()"
   ]
  },
  {
   "cell_type": "code",
   "execution_count": 162,
   "id": "fa73f0b3",
   "metadata": {},
   "outputs": [],
   "source": [
    "# test.index = pd.to_datetime(test.index)\n",
    "\n",
    "# train.index = pd.to_datetime(train.index)\n",
    "# predictions.index = pd.to_datetime(predictions.index)\n",
    "# test_aligned = test[test.index.isin(predictions.index)]"
   ]
  },
  {
   "cell_type": "code",
   "execution_count": 163,
   "id": "dbbe51e6",
   "metadata": {},
   "outputs": [],
   "source": [
    "# combined = pd.concat([test, predictions], axis=1)\n",
    "# combined.dropna(inplace=True)\n",
    "\n",
    "# test_clean = combined.iloc[:, 0]\n",
    "# predictions_clean = combined.iloc[:, 1]\n",
    "\n",
    "# test = test_clean\n",
    "# predictions = predictions_clean\n",
    "# test.head(13)"
   ]
  },
  {
   "cell_type": "code",
   "execution_count": 164,
   "id": "600a96db",
   "metadata": {},
   "outputs": [
    {
     "data": {
      "text/plain": [
       "2025-05-17    104096.091831\n",
       "2025-05-18    104253.236679\n",
       "2025-05-19    104513.547651\n",
       "2025-05-20    105495.334379\n",
       "2025-05-21    105984.044253\n",
       "2025-05-22    106718.589204\n",
       "2025-05-23    106718.567176\n",
       "2025-05-24    107096.939169\n",
       "2025-05-25    107258.614136\n",
       "2025-05-26    107526.429265\n",
       "2025-05-27    108536.518613\n",
       "2025-05-28    109039.316853\n",
       "2025-05-29    109795.037019\n",
       "Freq: D, dtype: float64"
      ]
     },
     "execution_count": 164,
     "metadata": {},
     "output_type": "execute_result"
    }
   ],
   "source": [
    "predictions.head(13)"
   ]
  },
  {
   "cell_type": "code",
   "execution_count": 165,
   "id": "8738a2c0",
   "metadata": {},
   "outputs": [],
   "source": [
    "#function to asses model and vizualize output\n",
    "def model_assesment(train, test, predictions, chart_title):\n",
    "    test = test[test.index.isin(predictions.index)]\n",
    "    predictions = predictions[predictions.index.isin(test.index)]\n",
    "\n",
    "    plt.figure(figsize=(10,4))\n",
    "    plt.plot(train, label='Train')\n",
    "    plt.plot(test, label='Test')\n",
    "    plt.plot(predictions, label='Forecast')\n",
    "    plt.title(f\"Train, Test and Prediction with {chart_title}\")\n",
    "    plt.legend()\n",
    "    plt.show()\n",
    "\n",
    "    mae = mean_absolute_error(test, predictions)\n",
    "    rmse = mean_squared_error(test, predictions) ** 0.5\n",
    "    mape = mean_absolute_percentage_error(test, predictions)\n",
    "    print(f\" The MAE is {mae:.2f}\")\n",
    "    print(f\" The RMSE is {rmse:.2f}\")\n",
    "    print(f\" The MAPE is {100 * mape:.2f}%\")\n"
   ]
  },
  {
   "cell_type": "code",
   "execution_count": 166,
   "id": "8e0943af",
   "metadata": {},
   "outputs": [
    {
     "name": "stderr",
     "output_type": "stream",
     "text": [
      "C:\\Users\\srmpc\\AppData\\Local\\Temp\\ipykernel_30764\\839997785.py:8: UserWarning: This axis already has a converter set and is updating to a potentially incompatible converter\n",
      "  plt.plot(test, label='Test')\n"
     ]
    },
    {
     "ename": "TypeError",
     "evalue": "tz must be string or tzinfo subclass, not <matplotlib.category.UnitData object at 0x000002180AF0FE60>.",
     "output_type": "error",
     "traceback": [
      "\u001b[31m---------------------------------------------------------------------------\u001b[39m",
      "\u001b[31mTypeError\u001b[39m                                 Traceback (most recent call last)",
      "\u001b[36mCell\u001b[39m\u001b[36m \u001b[39m\u001b[32mIn[166]\u001b[39m\u001b[32m, line 2\u001b[39m\n\u001b[32m      1\u001b[39m \u001b[38;5;66;03m#Model Assesment\u001b[39;00m\n\u001b[32m----> \u001b[39m\u001b[32m2\u001b[39m \u001b[43mmodel_assesment\u001b[49m\u001b[43m(\u001b[49m\u001b[43mtrain\u001b[49m\u001b[43m[\u001b[49m\u001b[33;43m'\u001b[39;49m\u001b[33;43m2024\u001b[39;49m\u001b[33;43m'\u001b[39;49m\u001b[43m:\u001b[49m\u001b[43m]\u001b[49m\u001b[43m,\u001b[49m\u001b[43m \u001b[49m\u001b[43mtest\u001b[49m\u001b[43m,\u001b[49m\u001b[43m \u001b[49m\u001b[43mpredictions\u001b[49m\u001b[43m,\u001b[49m\u001b[43m \u001b[49m\u001b[33;43m\"\u001b[39;49m\u001b[33;43mHolt-Winters\u001b[39;49m\u001b[33;43m\"\u001b[39;49m\u001b[43m)\u001b[49m\n",
      "\u001b[36mCell\u001b[39m\u001b[36m \u001b[39m\u001b[32mIn[165]\u001b[39m\u001b[32m, line 8\u001b[39m, in \u001b[36mmodel_assesment\u001b[39m\u001b[34m(train, test, predictions, chart_title)\u001b[39m\n\u001b[32m      6\u001b[39m plt.figure(figsize=(\u001b[32m10\u001b[39m,\u001b[32m4\u001b[39m))\n\u001b[32m      7\u001b[39m plt.plot(train, label=\u001b[33m'\u001b[39m\u001b[33mTrain\u001b[39m\u001b[33m'\u001b[39m)\n\u001b[32m----> \u001b[39m\u001b[32m8\u001b[39m \u001b[43mplt\u001b[49m\u001b[43m.\u001b[49m\u001b[43mplot\u001b[49m\u001b[43m(\u001b[49m\u001b[43mtest\u001b[49m\u001b[43m,\u001b[49m\u001b[43m \u001b[49m\u001b[43mlabel\u001b[49m\u001b[43m=\u001b[49m\u001b[33;43m'\u001b[39;49m\u001b[33;43mTest\u001b[39;49m\u001b[33;43m'\u001b[39;49m\u001b[43m)\u001b[49m\n\u001b[32m      9\u001b[39m plt.plot(predictions, label=\u001b[33m'\u001b[39m\u001b[33mForecast\u001b[39m\u001b[33m'\u001b[39m)\n\u001b[32m     10\u001b[39m plt.title(\u001b[33mf\u001b[39m\u001b[33m\"\u001b[39m\u001b[33mTrain, Test and Prediction with \u001b[39m\u001b[38;5;132;01m{\u001b[39;00mchart_title\u001b[38;5;132;01m}\u001b[39;00m\u001b[33m\"\u001b[39m)\n",
      "\u001b[36mFile \u001b[39m\u001b[32mc:\\Users\\srmpc\\AppData\\Local\\Programs\\Python\\Python312\\Lib\\site-packages\\matplotlib\\pyplot.py:3827\u001b[39m, in \u001b[36mplot\u001b[39m\u001b[34m(scalex, scaley, data, *args, **kwargs)\u001b[39m\n\u001b[32m   3819\u001b[39m \u001b[38;5;129m@_copy_docstring_and_deprecators\u001b[39m(Axes.plot)\n\u001b[32m   3820\u001b[39m \u001b[38;5;28;01mdef\u001b[39;00m\u001b[38;5;250m \u001b[39m\u001b[34mplot\u001b[39m(\n\u001b[32m   3821\u001b[39m     *args: \u001b[38;5;28mfloat\u001b[39m | ArrayLike | \u001b[38;5;28mstr\u001b[39m,\n\u001b[32m   (...)\u001b[39m\u001b[32m   3825\u001b[39m     **kwargs,\n\u001b[32m   3826\u001b[39m ) -> \u001b[38;5;28mlist\u001b[39m[Line2D]:\n\u001b[32m-> \u001b[39m\u001b[32m3827\u001b[39m     \u001b[38;5;28;01mreturn\u001b[39;00m \u001b[43mgca\u001b[49m\u001b[43m(\u001b[49m\u001b[43m)\u001b[49m\u001b[43m.\u001b[49m\u001b[43mplot\u001b[49m\u001b[43m(\u001b[49m\n\u001b[32m   3828\u001b[39m \u001b[43m        \u001b[49m\u001b[43m*\u001b[49m\u001b[43margs\u001b[49m\u001b[43m,\u001b[49m\n\u001b[32m   3829\u001b[39m \u001b[43m        \u001b[49m\u001b[43mscalex\u001b[49m\u001b[43m=\u001b[49m\u001b[43mscalex\u001b[49m\u001b[43m,\u001b[49m\n\u001b[32m   3830\u001b[39m \u001b[43m        \u001b[49m\u001b[43mscaley\u001b[49m\u001b[43m=\u001b[49m\u001b[43mscaley\u001b[49m\u001b[43m,\u001b[49m\n\u001b[32m   3831\u001b[39m \u001b[43m        \u001b[49m\u001b[43m*\u001b[49m\u001b[43m*\u001b[49m\u001b[43m(\u001b[49m\u001b[43m{\u001b[49m\u001b[33;43m\"\u001b[39;49m\u001b[33;43mdata\u001b[39;49m\u001b[33;43m\"\u001b[39;49m\u001b[43m:\u001b[49m\u001b[43m \u001b[49m\u001b[43mdata\u001b[49m\u001b[43m}\u001b[49m\u001b[43m \u001b[49m\u001b[38;5;28;43;01mif\u001b[39;49;00m\u001b[43m \u001b[49m\u001b[43mdata\u001b[49m\u001b[43m \u001b[49m\u001b[38;5;129;43;01mis\u001b[39;49;00m\u001b[43m \u001b[49m\u001b[38;5;129;43;01mnot\u001b[39;49;00m\u001b[43m \u001b[49m\u001b[38;5;28;43;01mNone\u001b[39;49;00m\u001b[43m \u001b[49m\u001b[38;5;28;43;01melse\u001b[39;49;00m\u001b[43m \u001b[49m\u001b[43m{\u001b[49m\u001b[43m}\u001b[49m\u001b[43m)\u001b[49m\u001b[43m,\u001b[49m\n\u001b[32m   3832\u001b[39m \u001b[43m        \u001b[49m\u001b[43m*\u001b[49m\u001b[43m*\u001b[49m\u001b[43mkwargs\u001b[49m\u001b[43m,\u001b[49m\n\u001b[32m   3833\u001b[39m \u001b[43m    \u001b[49m\u001b[43m)\u001b[49m\n",
      "\u001b[36mFile \u001b[39m\u001b[32mc:\\Users\\srmpc\\AppData\\Local\\Programs\\Python\\Python312\\Lib\\site-packages\\matplotlib\\axes\\_axes.py:1777\u001b[39m, in \u001b[36mAxes.plot\u001b[39m\u001b[34m(self, scalex, scaley, data, *args, **kwargs)\u001b[39m\n\u001b[32m   1534\u001b[39m \u001b[38;5;250m\u001b[39m\u001b[33;03m\"\"\"\u001b[39;00m\n\u001b[32m   1535\u001b[39m \u001b[33;03mPlot y versus x as lines and/or markers.\u001b[39;00m\n\u001b[32m   1536\u001b[39m \n\u001b[32m   (...)\u001b[39m\u001b[32m   1774\u001b[39m \u001b[33;03m(``'green'``) or hex strings (``'#008000'``).\u001b[39;00m\n\u001b[32m   1775\u001b[39m \u001b[33;03m\"\"\"\u001b[39;00m\n\u001b[32m   1776\u001b[39m kwargs = cbook.normalize_kwargs(kwargs, mlines.Line2D)\n\u001b[32m-> \u001b[39m\u001b[32m1777\u001b[39m lines = [*\u001b[38;5;28mself\u001b[39m._get_lines(\u001b[38;5;28mself\u001b[39m, *args, data=data, **kwargs)]\n\u001b[32m   1778\u001b[39m \u001b[38;5;28;01mfor\u001b[39;00m line \u001b[38;5;129;01min\u001b[39;00m lines:\n\u001b[32m   1779\u001b[39m     \u001b[38;5;28mself\u001b[39m.add_line(line)\n",
      "\u001b[36mFile \u001b[39m\u001b[32mc:\\Users\\srmpc\\AppData\\Local\\Programs\\Python\\Python312\\Lib\\site-packages\\matplotlib\\axes\\_base.py:297\u001b[39m, in \u001b[36m_process_plot_var_args.__call__\u001b[39m\u001b[34m(self, axes, data, return_kwargs, *args, **kwargs)\u001b[39m\n\u001b[32m    295\u001b[39m     this += args[\u001b[32m0\u001b[39m],\n\u001b[32m    296\u001b[39m     args = args[\u001b[32m1\u001b[39m:]\n\u001b[32m--> \u001b[39m\u001b[32m297\u001b[39m \u001b[38;5;28;01myield from\u001b[39;00m \u001b[38;5;28;43mself\u001b[39;49m\u001b[43m.\u001b[49m\u001b[43m_plot_args\u001b[49m\u001b[43m(\u001b[49m\n\u001b[32m    298\u001b[39m \u001b[43m    \u001b[49m\u001b[43maxes\u001b[49m\u001b[43m,\u001b[49m\u001b[43m \u001b[49m\u001b[43mthis\u001b[49m\u001b[43m,\u001b[49m\u001b[43m \u001b[49m\u001b[43mkwargs\u001b[49m\u001b[43m,\u001b[49m\u001b[43m \u001b[49m\u001b[43mambiguous_fmt_datakey\u001b[49m\u001b[43m=\u001b[49m\u001b[43mambiguous_fmt_datakey\u001b[49m\u001b[43m,\u001b[49m\n\u001b[32m    299\u001b[39m \u001b[43m    \u001b[49m\u001b[43mreturn_kwargs\u001b[49m\u001b[43m=\u001b[49m\u001b[43mreturn_kwargs\u001b[49m\n\u001b[32m    300\u001b[39m \u001b[43m\u001b[49m\u001b[43m)\u001b[49m\n",
      "\u001b[36mFile \u001b[39m\u001b[32mc:\\Users\\srmpc\\AppData\\Local\\Programs\\Python\\Python312\\Lib\\site-packages\\matplotlib\\axes\\_base.py:489\u001b[39m, in \u001b[36m_process_plot_var_args._plot_args\u001b[39m\u001b[34m(self, axes, tup, kwargs, return_kwargs, ambiguous_fmt_datakey)\u001b[39m\n\u001b[32m    486\u001b[39m     x, y = index_of(xy[-\u001b[32m1\u001b[39m])\n\u001b[32m    488\u001b[39m \u001b[38;5;28;01mif\u001b[39;00m axes.xaxis \u001b[38;5;129;01mis\u001b[39;00m \u001b[38;5;129;01mnot\u001b[39;00m \u001b[38;5;28;01mNone\u001b[39;00m:\n\u001b[32m--> \u001b[39m\u001b[32m489\u001b[39m     \u001b[43maxes\u001b[49m\u001b[43m.\u001b[49m\u001b[43mxaxis\u001b[49m\u001b[43m.\u001b[49m\u001b[43mupdate_units\u001b[49m\u001b[43m(\u001b[49m\u001b[43mx\u001b[49m\u001b[43m)\u001b[49m\n\u001b[32m    490\u001b[39m \u001b[38;5;28;01mif\u001b[39;00m axes.yaxis \u001b[38;5;129;01mis\u001b[39;00m \u001b[38;5;129;01mnot\u001b[39;00m \u001b[38;5;28;01mNone\u001b[39;00m:\n\u001b[32m    491\u001b[39m     axes.yaxis.update_units(y)\n",
      "\u001b[36mFile \u001b[39m\u001b[32mc:\\Users\\srmpc\\AppData\\Local\\Programs\\Python\\Python312\\Lib\\site-packages\\matplotlib\\axis.py:1759\u001b[39m, in \u001b[36mAxis.update_units\u001b[39m\u001b[34m(self, data)\u001b[39m\n\u001b[32m   1756\u001b[39m     \u001b[38;5;28mself\u001b[39m.set_units(default)\n\u001b[32m   1758\u001b[39m \u001b[38;5;28;01melif\u001b[39;00m neednew:\n\u001b[32m-> \u001b[39m\u001b[32m1759\u001b[39m     \u001b[38;5;28;43mself\u001b[39;49m\u001b[43m.\u001b[49m\u001b[43m_update_axisinfo\u001b[49m\u001b[43m(\u001b[49m\u001b[43m)\u001b[49m\n\u001b[32m   1760\u001b[39m \u001b[38;5;28mself\u001b[39m.stale = \u001b[38;5;28;01mTrue\u001b[39;00m\n\u001b[32m   1761\u001b[39m \u001b[38;5;28;01mreturn\u001b[39;00m \u001b[38;5;28;01mTrue\u001b[39;00m\n",
      "\u001b[36mFile \u001b[39m\u001b[32mc:\\Users\\srmpc\\AppData\\Local\\Programs\\Python\\Python312\\Lib\\site-packages\\matplotlib\\axis.py:1771\u001b[39m, in \u001b[36mAxis._update_axisinfo\u001b[39m\u001b[34m(self)\u001b[39m\n\u001b[32m   1768\u001b[39m \u001b[38;5;28;01mif\u001b[39;00m \u001b[38;5;28mself\u001b[39m._converter \u001b[38;5;129;01mis\u001b[39;00m \u001b[38;5;28;01mNone\u001b[39;00m:\n\u001b[32m   1769\u001b[39m     \u001b[38;5;28;01mreturn\u001b[39;00m\n\u001b[32m-> \u001b[39m\u001b[32m1771\u001b[39m info = \u001b[38;5;28;43mself\u001b[39;49m\u001b[43m.\u001b[49m\u001b[43m_converter\u001b[49m\u001b[43m.\u001b[49m\u001b[43maxisinfo\u001b[49m\u001b[43m(\u001b[49m\u001b[38;5;28;43mself\u001b[39;49m\u001b[43m.\u001b[49m\u001b[43munits\u001b[49m\u001b[43m,\u001b[49m\u001b[43m \u001b[49m\u001b[38;5;28;43mself\u001b[39;49m\u001b[43m)\u001b[49m\n\u001b[32m   1773\u001b[39m \u001b[38;5;28;01mif\u001b[39;00m info \u001b[38;5;129;01mis\u001b[39;00m \u001b[38;5;28;01mNone\u001b[39;00m:\n\u001b[32m   1774\u001b[39m     \u001b[38;5;28;01mreturn\u001b[39;00m\n",
      "\u001b[36mFile \u001b[39m\u001b[32mc:\\Users\\srmpc\\AppData\\Local\\Programs\\Python\\Python312\\Lib\\site-packages\\matplotlib\\dates.py:1828\u001b[39m, in \u001b[36m_SwitchableDateConverter.axisinfo\u001b[39m\u001b[34m(self, *args, **kwargs)\u001b[39m\n\u001b[32m   1827\u001b[39m \u001b[38;5;28;01mdef\u001b[39;00m\u001b[38;5;250m \u001b[39m\u001b[34maxisinfo\u001b[39m(\u001b[38;5;28mself\u001b[39m, *args, **kwargs):\n\u001b[32m-> \u001b[39m\u001b[32m1828\u001b[39m     \u001b[38;5;28;01mreturn\u001b[39;00m \u001b[38;5;28;43mself\u001b[39;49m\u001b[43m.\u001b[49m\u001b[43m_get_converter\u001b[49m\u001b[43m(\u001b[49m\u001b[43m)\u001b[49m\u001b[43m.\u001b[49m\u001b[43maxisinfo\u001b[49m\u001b[43m(\u001b[49m\u001b[43m*\u001b[49m\u001b[43margs\u001b[49m\u001b[43m,\u001b[49m\u001b[43m \u001b[49m\u001b[43m*\u001b[49m\u001b[43m*\u001b[49m\u001b[43mkwargs\u001b[49m\u001b[43m)\u001b[49m\n",
      "\u001b[36mFile \u001b[39m\u001b[32mc:\\Users\\srmpc\\AppData\\Local\\Programs\\Python\\Python312\\Lib\\site-packages\\matplotlib\\dates.py:1745\u001b[39m, in \u001b[36mDateConverter.axisinfo\u001b[39m\u001b[34m(self, unit, axis)\u001b[39m\n\u001b[32m   1737\u001b[39m \u001b[38;5;250m\u001b[39m\u001b[33;03m\"\"\"\u001b[39;00m\n\u001b[32m   1738\u001b[39m \u001b[33;03mReturn the `~matplotlib.units.AxisInfo` for *unit*.\u001b[39;00m\n\u001b[32m   1739\u001b[39m \n\u001b[32m   1740\u001b[39m \u001b[33;03m*unit* is a `~datetime.tzinfo` instance or None.\u001b[39;00m\n\u001b[32m   1741\u001b[39m \u001b[33;03mThe *axis* argument is required but not used.\u001b[39;00m\n\u001b[32m   1742\u001b[39m \u001b[33;03m\"\"\"\u001b[39;00m\n\u001b[32m   1743\u001b[39m tz = unit\n\u001b[32m-> \u001b[39m\u001b[32m1745\u001b[39m majloc = \u001b[43mAutoDateLocator\u001b[49m\u001b[43m(\u001b[49m\u001b[43mtz\u001b[49m\u001b[43m=\u001b[49m\u001b[43mtz\u001b[49m\u001b[43m,\u001b[49m\n\u001b[32m   1746\u001b[39m \u001b[43m                         \u001b[49m\u001b[43minterval_multiples\u001b[49m\u001b[43m=\u001b[49m\u001b[38;5;28;43mself\u001b[39;49m\u001b[43m.\u001b[49m\u001b[43m_interval_multiples\u001b[49m\u001b[43m)\u001b[49m\n\u001b[32m   1747\u001b[39m majfmt = AutoDateFormatter(majloc, tz=tz)\n\u001b[32m   1748\u001b[39m datemin = datetime.date(\u001b[32m1970\u001b[39m, \u001b[32m1\u001b[39m, \u001b[32m1\u001b[39m)\n",
      "\u001b[36mFile \u001b[39m\u001b[32mc:\\Users\\srmpc\\AppData\\Local\\Programs\\Python\\Python312\\Lib\\site-packages\\matplotlib\\dates.py:1279\u001b[39m, in \u001b[36mAutoDateLocator.__init__\u001b[39m\u001b[34m(self, tz, minticks, maxticks, interval_multiples)\u001b[39m\n\u001b[32m   1254\u001b[39m \u001b[38;5;28;01mdef\u001b[39;00m\u001b[38;5;250m \u001b[39m\u001b[34m__init__\u001b[39m(\u001b[38;5;28mself\u001b[39m, tz=\u001b[38;5;28;01mNone\u001b[39;00m, minticks=\u001b[32m5\u001b[39m, maxticks=\u001b[38;5;28;01mNone\u001b[39;00m,\n\u001b[32m   1255\u001b[39m              interval_multiples=\u001b[38;5;28;01mTrue\u001b[39;00m):\n\u001b[32m   1256\u001b[39m \u001b[38;5;250m    \u001b[39m\u001b[33;03m\"\"\"\u001b[39;00m\n\u001b[32m   1257\u001b[39m \u001b[33;03m    Parameters\u001b[39;00m\n\u001b[32m   1258\u001b[39m \u001b[33;03m    ----------\u001b[39;00m\n\u001b[32m   (...)\u001b[39m\u001b[32m   1277\u001b[39m \u001b[33;03m        at 6 hour intervals.\u001b[39;00m\n\u001b[32m   1278\u001b[39m \u001b[33;03m    \"\"\"\u001b[39;00m\n\u001b[32m-> \u001b[39m\u001b[32m1279\u001b[39m     \u001b[38;5;28;43msuper\u001b[39;49m\u001b[43m(\u001b[49m\u001b[43m)\u001b[49m\u001b[43m.\u001b[49m\u001b[34;43m__init__\u001b[39;49m\u001b[43m(\u001b[49m\u001b[43mtz\u001b[49m\u001b[43m=\u001b[49m\u001b[43mtz\u001b[49m\u001b[43m)\u001b[49m\n\u001b[32m   1280\u001b[39m     \u001b[38;5;28mself\u001b[39m._freq = YEARLY\n\u001b[32m   1281\u001b[39m     \u001b[38;5;28mself\u001b[39m._freqs = [YEARLY, MONTHLY, DAILY, HOURLY, MINUTELY,\n\u001b[32m   1282\u001b[39m                    SECONDLY, MICROSECONDLY]\n",
      "\u001b[36mFile \u001b[39m\u001b[32mc:\\Users\\srmpc\\AppData\\Local\\Programs\\Python\\Python312\\Lib\\site-packages\\matplotlib\\dates.py:1078\u001b[39m, in \u001b[36mDateLocator.__init__\u001b[39m\u001b[34m(self, tz)\u001b[39m\n\u001b[32m   1071\u001b[39m \u001b[38;5;28;01mdef\u001b[39;00m\u001b[38;5;250m \u001b[39m\u001b[34m__init__\u001b[39m(\u001b[38;5;28mself\u001b[39m, tz=\u001b[38;5;28;01mNone\u001b[39;00m):\n\u001b[32m   1072\u001b[39m \u001b[38;5;250m    \u001b[39m\u001b[33;03m\"\"\"\u001b[39;00m\n\u001b[32m   1073\u001b[39m \u001b[33;03m    Parameters\u001b[39;00m\n\u001b[32m   1074\u001b[39m \u001b[33;03m    ----------\u001b[39;00m\n\u001b[32m   1075\u001b[39m \u001b[33;03m    tz : str or `~datetime.tzinfo`, default: :rc:`timezone`\u001b[39;00m\n\u001b[32m   1076\u001b[39m \u001b[33;03m        Ticks timezone. If a string, *tz* is passed to `dateutil.tz`.\u001b[39;00m\n\u001b[32m   1077\u001b[39m \u001b[33;03m    \"\"\"\u001b[39;00m\n\u001b[32m-> \u001b[39m\u001b[32m1078\u001b[39m     \u001b[38;5;28mself\u001b[39m.tz = \u001b[43m_get_tzinfo\u001b[49m\u001b[43m(\u001b[49m\u001b[43mtz\u001b[49m\u001b[43m)\u001b[49m\n",
      "\u001b[36mFile \u001b[39m\u001b[32mc:\\Users\\srmpc\\AppData\\Local\\Programs\\Python\\Python312\\Lib\\site-packages\\matplotlib\\dates.py:224\u001b[39m, in \u001b[36m_get_tzinfo\u001b[39m\u001b[34m(tz)\u001b[39m\n\u001b[32m    222\u001b[39m \u001b[38;5;28;01mif\u001b[39;00m \u001b[38;5;28misinstance\u001b[39m(tz, datetime.tzinfo):\n\u001b[32m    223\u001b[39m     \u001b[38;5;28;01mreturn\u001b[39;00m tz\n\u001b[32m--> \u001b[39m\u001b[32m224\u001b[39m \u001b[38;5;28;01mraise\u001b[39;00m \u001b[38;5;167;01mTypeError\u001b[39;00m(\u001b[33mf\u001b[39m\u001b[33m\"\u001b[39m\u001b[33mtz must be string or tzinfo subclass, not \u001b[39m\u001b[38;5;132;01m{\u001b[39;00mtz\u001b[38;5;132;01m!r}\u001b[39;00m\u001b[33m.\u001b[39m\u001b[33m\"\u001b[39m)\n",
      "\u001b[31mTypeError\u001b[39m: tz must be string or tzinfo subclass, not <matplotlib.category.UnitData object at 0x000002180AF0FE60>."
     ]
    },
    {
     "data": {
      "image/png": "[encoded data removed]",
      "text/plain": [
       "<Figure size 1000x400 with 1 Axes>"
      ]
     },
     "metadata": {},
     "output_type": "display_data"
    }
   ],
   "source": [
    "#Model Assesment\n",
    "model_assesment(train['2024':], test, predictions, \"Holt-Winters\")"
   ]
  },
  {
   "cell_type": "code",
   "execution_count": null,
   "id": "b1736e6e",
   "metadata": {},
   "outputs": [],
   "source": []
  }
 ],
 "metadata": {
  "kernelspec": {
   "display_name": "Python 3",
   "language": "python",
   "name": "python3"
  },
  "language_info": {
   "codemirror_mode": {
    "name": "ipython",
    "version": 3
   },
   "file_extension": ".py",
   "mimetype": "text/x-python",
   "name": "python",
   "nbconvert_exporter": "python",
   "pygments_lexer": "ipython3",
   "version": "3.12.10"
  }
 },
 "nbformat": 4,
 "nbformat_minor": 5
}
